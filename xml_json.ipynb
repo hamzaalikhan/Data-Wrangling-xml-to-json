{
 "cells": [
  {
   "cell_type": "markdown",
   "metadata": {},
   "source": [
    "Task: Convert Data Stored in an XML File to a JSON File. \n",
    "\n",
    "Environment: Python 3\n",
    "\n",
    "Libraries used:\n",
    "* json\n",
    "* re\n",
    "\n",
    "\n",
    "\n",
    "## 1. Introduction\n",
    "This project requires to read in an XML file, clean it/wrangle it, make it into a format similar to the one showed in the sample output and finally write the clean data to a json file.\n",
    "\n",
    "More details for each task will be given in the following sections."
   ]
  },
  {
   "cell_type": "code",
   "execution_count": 3,
   "metadata": {},
   "outputs": [],
   "source": [
    "#importing library\n",
    "import re \n",
    "import json\n",
    "\n",
    "#reading the xml file, and reading the text in it\n",
    "theFile = open(r'australian-sport-thesaurus-student.xml',encoding=\"utf8\")\n",
    "theText = theFile.read()\n",
    "\n",
    "#creating a regular expression, and a list to append all the results fromt the regular expression\n",
    "theList = []\n",
    "theExpression = r'<Term>[\\s\\S]*?<\\/RelatedTerms>'\n",
    "thePattern = re.compile(theExpression, re.IGNORECASE)\n",
    "\n",
    "#looping through results and appending them to the list.\n",
    "for items in thePattern.finditer(theText):\n",
    "    theList.append(items.group(0))"
   ]
  },
  {
   "cell_type": "code",
   "execution_count": 4,
   "metadata": {},
   "outputs": [
    {
     "name": "stdout",
     "output_type": "stream",
     "text": [
      "The file is done\n"
     ]
    }
   ],
   "source": [
    "#importing libraries\n",
    "import re\n",
    "import json\n",
    "\n",
    "#creating dictionary to add results.\n",
    "theDict = {}\n",
    "theThesaurus = {}\n",
    "\n",
    "#creating list of final results to be apended in the dictionary.\n",
    "finalList = []\n",
    "\n",
    "#opening the Json file to write results to it.\n",
    "theJson = open(r'sport.dat', 'w', encoding=\"utf8\")\n",
    "\n",
    "#regular expression to find title and description.\n",
    "theDescription = '<Description>(.*)<\\/Description'\n",
    "theTitle = '<Title>(.*)<\\/Title>\\n\\s\\s\\s\\s<Description>'\n",
    "\n",
    "\n",
    "#loop that goes over results, adds it to a dictionary.\n",
    "#adding the dictionary to the final list.\n",
    "#finally adding the final list to the final dictionary.\n",
    "\n",
    "for items in theList:\n",
    "    resultDescription = re.findall(theDescription,items)\n",
    "    if len(resultDescription) > 0:\n",
    "        theDict['Description'] = resultDescription.pop()\n",
    "    else:\n",
    "        theDict['Description'] = resultDescription\n",
    "    \n",
    "    #bundling relationship and title together.\n",
    "    theRelatedterm = []\n",
    "\n",
    "    theRelationship = re.findall(r'<Relationship>(.*)<\\/Relationship>' ,items)\n",
    "    theTerm = re.findall(r'<Term>\\n\\s\\s\\s\\s\\s\\s\\s\\s<Title>(.*)<\\/Title>' ,items)\n",
    "    theZip = zip(theRelationship, theTerm)\n",
    "    \n",
    "    if len(theRelationship) > 1:\n",
    "        for (items_1, items_2) in theZip:\n",
    "            theRelatedterm.append({\"Relationship\" : items_1, \"Title\" : items_2})\n",
    "        theDict['RelatedTerms'] = theRelatedterm\n",
    "    elif len(theRelationship) == 1:\n",
    "        if len(theTerm) > 0:\n",
    "            theRelatedterm.append({\"Relationship\" : theRelationship.pop(), \"Title\" : theTerm.pop()})\n",
    "            theDict['RelatedTerms'] = theRelatedterm\n",
    "        else:\n",
    "            theRelatedterm.append({\"Relationship\" : theRelationship.pop(), \"Title\" : theTerm})\n",
    "            theDict['RelatedTerms'] = theRelatedterm\n",
    "            \n",
    "\n",
    "    finalTitle = re.findall(theTitle, items)\n",
    "    theDict['Title'] = finalTitle.pop()\n",
    "    \n",
    "    #appending the dictionary to the list\n",
    "    finalList.append(theDict.copy())\n",
    "\n",
    "#appending the final list to the final dictionary\n",
    "theThesaurus['thesaurus'] = finalList\n",
    "\n",
    "#creating json format\n",
    "json.dump(theThesaurus, theJson, ensure_ascii = False)\n",
    "\n",
    "\n",
    "theJson.close()\n",
    "print('The file is done')"
   ]
  },
  {
   "cell_type": "code",
   "execution_count": null,
   "metadata": {},
   "outputs": [],
   "source": []
  }
 ],
 "metadata": {
  "kernelspec": {
   "display_name": "Python 3",
   "language": "python",
   "name": "python3"
  },
  "language_info": {
   "codemirror_mode": {
    "name": "ipython",
    "version": 3
   },
   "file_extension": ".py",
   "mimetype": "text/x-python",
   "name": "python",
   "nbconvert_exporter": "python",
   "pygments_lexer": "ipython3",
   "version": "3.6.4"
  }
 },
 "nbformat": 4,
 "nbformat_minor": 2
}
